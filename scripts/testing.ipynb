{
 "cells": [
  {
   "cell_type": "code",
   "execution_count": 2,
   "metadata": {},
   "outputs": [],
   "source": [
    "import os\n",
    "os.chdir('/Users/alishpalmos/Desktop/Python stuff/brixton_radio/scripts')"
   ]
  },
  {
   "cell_type": "code",
   "execution_count": 3,
   "metadata": {},
   "outputs": [],
   "source": [
    "from mp4_to_mp3 import convert_mp4_to_mp3"
   ]
  },
  {
   "cell_type": "code",
   "execution_count": 4,
   "metadata": {},
   "outputs": [
    {
     "name": "stdout",
     "output_type": "stream",
     "text": [
      "MoviePy - Writing audio in /Users/alishpalmos/Desktop/Python stuff/brixton_radio/test/output/test.mp3\n"
     ]
    },
    {
     "name": "stderr",
     "output_type": "stream",
     "text": [
      "                                                                    "
     ]
    },
    {
     "name": "stdout",
     "output_type": "stream",
     "text": [
      "MoviePy - Done.\n",
      "Successfully converted /Users/alishpalmos/Desktop/Python stuff/brixton_radio/test/input/test.mp4 to /Users/alishpalmos/Desktop/Python stuff/brixton_radio/test/output/test.mp3\n"
     ]
    },
    {
     "name": "stderr",
     "output_type": "stream",
     "text": [
      "\r"
     ]
    }
   ],
   "source": [
    "convert_mp4_to_mp3(mp4_path=\"/Users/alishpalmos/Desktop/Python stuff/brixton_radio/test/input/test.mp4\",\n",
    "                   mp3_path=\"/Users/alishpalmos/Desktop/Python stuff/brixton_radio/test/output/test.mp3\")"
   ]
  },
  {
   "cell_type": "code",
   "execution_count": null,
   "metadata": {},
   "outputs": [],
   "source": [
    "https://www.mixcloud.com/oauth/authorize?client_id=faoms42UfoYfZaYn9O&redirect_uri=https://www.mixcloud.com/palmos_music/"
   ]
  }
 ],
 "metadata": {
  "kernelspec": {
   "display_name": ".venv",
   "language": "python",
   "name": "python3"
  },
  "language_info": {
   "codemirror_mode": {
    "name": "ipython",
    "version": 3
   },
   "file_extension": ".py",
   "mimetype": "text/x-python",
   "name": "python",
   "nbconvert_exporter": "python",
   "pygments_lexer": "ipython3",
   "version": "3.10.14"
  }
 },
 "nbformat": 4,
 "nbformat_minor": 2
}
